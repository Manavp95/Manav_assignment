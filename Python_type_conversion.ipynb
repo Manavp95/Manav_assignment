# coversion of int to floating point number
i =  1
i = float(i)
# Conversion of float to an int
a = 3.51
a = int(a)    
#convert integer to string
a = 1
a= str(a)
print(type(a))

#convert list to tuple
lst = [1,2,3,4,5]
lst = tuple(lst)
print(type(lst))
#convert a tuple to a list
tup = (1,2,3,4,5)
tup = list(tup)
print(type(tup))
# Convert decimal number to binary
a= 1.23
a = bin(int(a))
print(a)
# Convert a non-zero number to boolean
a = 25
a = bool(a)
print(type(a))